{
  "nbformat": 4,
  "nbformat_minor": 0,
  "metadata": {
    "colab": {
      "provenance": []
    },
    "kernelspec": {
      "name": "python3",
      "display_name": "Python 3"
    },
    "language_info": {
      "name": "python"
    }
  },
  "cells": [
    {
      "cell_type": "markdown",
      "source": [
        "Name:Ugesh KC    ID:2431328\n"
      ],
      "metadata": {
        "id": "RABbins3jxqN"
      }
    },
    {
      "cell_type": "markdown",
      "source": [
        "3 To - Do - Task\n",
        "Please Complete all the problem listed below.\n",
        "3.1 Warming Up Exercises - Basic Inspection and Exploration:\n",
        "Problem 1 - Data Read, Write and Inspect:\n",
        "Complete all following Task:\n",
        "• Dataset for the Task: \"bank.csv\"\n",
        "1. Load the provided dataset and import in pandas DataFrame.\n",
        "2. Check info of the DataFrame and identify following:\n",
        "(a) columns with dtypes=object\n",
        "(b) unique values of those columns.\n",
        "(c) check for the total number of null values in each column.\n",
        "3. Drop all the columns with dtypes object and store in new DataFrame, also write the DataFrame in\n",
        "”.csv” with name ”banknumericdata.csv”\n",
        "4. Read ”banknumericdata.csv” and Find the summary statistics."
      ],
      "metadata": {
        "id": "C_MZK_SbkHPj"
      }
    },
    {
      "cell_type": "code",
      "execution_count": 4,
      "metadata": {
        "colab": {
          "base_uri": "https://localhost:8080/"
        },
        "id": "KIxaA6QSjDTk",
        "outputId": "075d005c-e5e2-487b-c6d0-9350fd920443"
      },
      "outputs": [
        {
          "output_type": "stream",
          "name": "stdout",
          "text": [
            "<class 'pandas.core.frame.DataFrame'>\n",
            "RangeIndex: 45211 entries, 0 to 45210\n",
            "Data columns (total 17 columns):\n",
            " #   Column     Non-Null Count  Dtype \n",
            "---  ------     --------------  ----- \n",
            " 0   age        45211 non-null  int64 \n",
            " 1   job        45211 non-null  object\n",
            " 2   marital    45211 non-null  object\n",
            " 3   education  45211 non-null  object\n",
            " 4   default    45211 non-null  object\n",
            " 5   balance    45211 non-null  int64 \n",
            " 6   housing    45211 non-null  object\n",
            " 7   loan       45211 non-null  object\n",
            " 8   contact    45211 non-null  object\n",
            " 9   day        45211 non-null  int64 \n",
            " 10  month      45211 non-null  object\n",
            " 11  duration   45211 non-null  int64 \n",
            " 12  campaign   45211 non-null  int64 \n",
            " 13  pdays      45211 non-null  int64 \n",
            " 14  previous   45211 non-null  int64 \n",
            " 15  poutcome   45211 non-null  object\n",
            " 16  y          45211 non-null  object\n",
            "dtypes: int64(7), object(10)\n",
            "memory usage: 5.9+ MB\n",
            "None\n",
            "\n",
            "(a) Columns with dtype=object:\n",
            "Index(['job', 'marital', 'education', 'default', 'housing', 'loan', 'contact',\n",
            "       'month', 'poutcome', 'y'],\n",
            "      dtype='object')\n",
            "\n",
            "(b) Unique values of object columns:\n",
            "\n",
            "Column: job\n",
            "['management' 'technician' 'entrepreneur' 'blue-collar' 'unknown'\n",
            " 'retired' 'admin.' 'services' 'self-employed' 'unemployed' 'housemaid'\n",
            " 'student']\n",
            "\n",
            "Column: marital\n",
            "['married' 'single' 'divorced']\n",
            "\n",
            "Column: education\n",
            "['tertiary' 'secondary' 'unknown' 'primary']\n",
            "\n",
            "Column: default\n",
            "['no' 'yes']\n",
            "\n",
            "Column: housing\n",
            "['yes' 'no']\n",
            "\n",
            "Column: loan\n",
            "['no' 'yes']\n",
            "\n",
            "Column: contact\n",
            "['unknown' 'cellular' 'telephone']\n",
            "\n",
            "Column: month\n",
            "['may' 'jun' 'jul' 'aug' 'oct' 'nov' 'dec' 'jan' 'feb' 'mar' 'apr' 'sep']\n",
            "\n",
            "Column: poutcome\n",
            "['unknown' 'failure' 'other' 'success']\n",
            "\n",
            "Column: y\n",
            "['no' 'yes']\n",
            "\n",
            "(c) Number of null values in each column:\n",
            "age          0\n",
            "job          0\n",
            "marital      0\n",
            "education    0\n",
            "default      0\n",
            "balance      0\n",
            "housing      0\n",
            "loan         0\n",
            "contact      0\n",
            "day          0\n",
            "month        0\n",
            "duration     0\n",
            "campaign     0\n",
            "pdays        0\n",
            "previous     0\n",
            "poutcome     0\n",
            "y            0\n",
            "dtype: int64\n",
            "\n",
            "Summary statistics of numeric data:\n",
            "                age        balance           day      duration      campaign  \\\n",
            "count  45211.000000   45211.000000  45211.000000  45211.000000  45211.000000   \n",
            "mean      40.936210    1362.272058     15.806419    258.163080      2.763841   \n",
            "std       10.618762    3044.765829      8.322476    257.527812      3.098021   \n",
            "min       18.000000   -8019.000000      1.000000      0.000000      1.000000   \n",
            "25%       33.000000      72.000000      8.000000    103.000000      1.000000   \n",
            "50%       39.000000     448.000000     16.000000    180.000000      2.000000   \n",
            "75%       48.000000    1428.000000     21.000000    319.000000      3.000000   \n",
            "max       95.000000  102127.000000     31.000000   4918.000000     63.000000   \n",
            "\n",
            "              pdays      previous  \n",
            "count  45211.000000  45211.000000  \n",
            "mean      40.197828      0.580323  \n",
            "std      100.128746      2.303441  \n",
            "min       -1.000000      0.000000  \n",
            "25%       -1.000000      0.000000  \n",
            "50%       -1.000000      0.000000  \n",
            "75%       -1.000000      0.000000  \n",
            "max      871.000000    275.000000  \n"
          ]
        }
      ],
      "source": [
        "import pandas as pd\n",
        "df = pd.read_csv('/content/drive/MyDrive/datasets/bank .csv')\n",
        "print(df.info())\n",
        "\n",
        "object_cols = df.select_dtypes(include='object').columns\n",
        "print(\"\\n(a) Columns with dtype=object:\")\n",
        "print(object_cols)\n",
        "\n",
        "print(\"\\n(b) Unique values of object columns:\")\n",
        "for col in object_cols:\n",
        "    print(f\"\\nColumn: {col}\")\n",
        "    print(df[col].unique())\n",
        "\n",
        "print(\"\\n(c) Number of null values in each column:\")\n",
        "print(df.isnull().sum())\n",
        "numeric_df = df.select_dtypes(exclude='object')\n",
        "numeric_df.to_csv('banknumericdata.csv', index=False)\n",
        "numeric_df_read = pd.read_csv('banknumericdata.csv')\n",
        "print(\"\\nSummary statistics of numeric data:\")\n",
        "print(numeric_df_read.describe())"
      ]
    },
    {
      "cell_type": "markdown",
      "source": [
        "Problem 2 - Data Imputations:\n",
        "Complete all the following Task:\n",
        "• Dataset for the Task: \"medical_student.csv\"\n",
        "1. Load the provided dataset and import in pandas DataFrame.\n",
        "2. Check info of the DataFrame and identify column with missing (null) values.\n",
        "3. For the column with missing values fill the values using various techniques we discussed above. Try\n",
        "to explain why did you select the particular methods for particular column.\n",
        "4. Check for any duplicate values present in Dataset and do necessary to manage the duplicate items.\n",
        "{Hint: dataset.duplicated.sum()}"
      ],
      "metadata": {
        "id": "AyhWVPE_lm_M"
      }
    },
    {
      "cell_type": "code",
      "source": [
        "import pandas as pd\n",
        "df_medical = pd.read_csv('/content/drive/MyDrive/datasets/medical_students_dataset.csv')\n",
        "print(df_medical.info())\n",
        "cols_with_missing = df_medical.columns[df_medical.isnull().any()]\n",
        "print(\"\\nColumns with missing values:\")\n",
        "print(cols_with_missing)\n",
        "for col in cols_with_missing:\n",
        "  if pd.api.types.is_numeric_dtype(df_medical[col]):\n",
        "    df_medical[col].fillna(df_medical[col].mean(), inplace = True)\n",
        "    print(f\"Imputed missing values in '{col}' using the mean.\")\n",
        "  else:\n",
        "    df_medical[col].fillna(df_medical[col].mode()[0], inplace = True)\n",
        "    print(f\"Imputed missing values in '{col}' using the mode.\")\n",
        "duplicate_rows = df_medical.duplicated().sum()\n",
        "print(f\"\\nNumber of duplicate rows: {duplicate_rows}\")\n",
        "if duplicate_rows > 0:\n",
        "    df_medical.drop_duplicates(inplace=True)\n",
        "    print(\"Duplicate rows removed.\")\n",
        "\n",
        "print(\"\\nDataFrame after imputation and duplicate removal:\")\n",
        "print(df_medical.info())\n"
      ],
      "metadata": {
        "colab": {
          "base_uri": "https://localhost:8080/"
        },
        "id": "JXrDtKiQlsRi",
        "outputId": "c8e4f46a-e2ad-46f1-b2b1-7af9d667927d"
      },
      "execution_count": 6,
      "outputs": [
        {
          "output_type": "stream",
          "name": "stdout",
          "text": [
            "<class 'pandas.core.frame.DataFrame'>\n",
            "RangeIndex: 200000 entries, 0 to 199999\n",
            "Data columns (total 13 columns):\n",
            " #   Column          Non-Null Count   Dtype  \n",
            "---  ------          --------------   -----  \n",
            " 0   Student ID      180000 non-null  float64\n",
            " 1   Age             180000 non-null  float64\n",
            " 2   Gender          180000 non-null  object \n",
            " 3   Height          180000 non-null  float64\n",
            " 4   Weight          180000 non-null  float64\n",
            " 5   Blood Type      180000 non-null  object \n",
            " 6   BMI             180000 non-null  float64\n",
            " 7   Temperature     180000 non-null  float64\n",
            " 8   Heart Rate      180000 non-null  float64\n",
            " 9   Blood Pressure  180000 non-null  float64\n",
            " 10  Cholesterol     180000 non-null  float64\n",
            " 11  Diabetes        180000 non-null  object \n",
            " 12  Smoking         180000 non-null  object \n",
            "dtypes: float64(9), object(4)\n",
            "memory usage: 19.8+ MB\n",
            "None\n",
            "\n",
            "Columns with missing values:\n",
            "Index(['Student ID', 'Age', 'Gender', 'Height', 'Weight', 'Blood Type', 'BMI',\n",
            "       'Temperature', 'Heart Rate', 'Blood Pressure', 'Cholesterol',\n",
            "       'Diabetes', 'Smoking'],\n",
            "      dtype='object')\n",
            "Imputed missing values in 'Student ID' using the mean.\n",
            "Imputed missing values in 'Age' using the mean.\n",
            "Imputed missing values in 'Gender' using the mode.\n",
            "Imputed missing values in 'Height' using the mean.\n",
            "Imputed missing values in 'Weight' using the mean.\n"
          ]
        },
        {
          "output_type": "stream",
          "name": "stderr",
          "text": [
            "<ipython-input-6-aa88e9d0dfcd>:9: FutureWarning: A value is trying to be set on a copy of a DataFrame or Series through chained assignment using an inplace method.\n",
            "The behavior will change in pandas 3.0. This inplace method will never work because the intermediate object on which we are setting values always behaves as a copy.\n",
            "\n",
            "For example, when doing 'df[col].method(value, inplace=True)', try using 'df.method({col: value}, inplace=True)' or df[col] = df[col].method(value) instead, to perform the operation inplace on the original object.\n",
            "\n",
            "\n",
            "  df_medical[col].fillna(df_medical[col].mean(), inplace = True)\n",
            "<ipython-input-6-aa88e9d0dfcd>:12: FutureWarning: A value is trying to be set on a copy of a DataFrame or Series through chained assignment using an inplace method.\n",
            "The behavior will change in pandas 3.0. This inplace method will never work because the intermediate object on which we are setting values always behaves as a copy.\n",
            "\n",
            "For example, when doing 'df[col].method(value, inplace=True)', try using 'df.method({col: value}, inplace=True)' or df[col] = df[col].method(value) instead, to perform the operation inplace on the original object.\n",
            "\n",
            "\n",
            "  df_medical[col].fillna(df_medical[col].mode()[0], inplace = True)\n"
          ]
        },
        {
          "output_type": "stream",
          "name": "stdout",
          "text": [
            "Imputed missing values in 'Blood Type' using the mode.\n",
            "Imputed missing values in 'BMI' using the mean.\n",
            "Imputed missing values in 'Temperature' using the mean.\n",
            "Imputed missing values in 'Heart Rate' using the mean.\n",
            "Imputed missing values in 'Blood Pressure' using the mean.\n",
            "Imputed missing values in 'Cholesterol' using the mean.\n",
            "Imputed missing values in 'Diabetes' using the mode.\n",
            "Imputed missing values in 'Smoking' using the mode.\n",
            "\n",
            "Number of duplicate rows: 12572\n",
            "Duplicate rows removed.\n",
            "\n",
            "DataFrame after imputation and duplicate removal:\n",
            "<class 'pandas.core.frame.DataFrame'>\n",
            "Index: 187428 entries, 0 to 199999\n",
            "Data columns (total 13 columns):\n",
            " #   Column          Non-Null Count   Dtype  \n",
            "---  ------          --------------   -----  \n",
            " 0   Student ID      187428 non-null  float64\n",
            " 1   Age             187428 non-null  float64\n",
            " 2   Gender          187428 non-null  object \n",
            " 3   Height          187428 non-null  float64\n",
            " 4   Weight          187428 non-null  float64\n",
            " 5   Blood Type      187428 non-null  object \n",
            " 6   BMI             187428 non-null  float64\n",
            " 7   Temperature     187428 non-null  float64\n",
            " 8   Heart Rate      187428 non-null  float64\n",
            " 9   Blood Pressure  187428 non-null  float64\n",
            " 10  Cholesterol     187428 non-null  float64\n",
            " 11  Diabetes        187428 non-null  object \n",
            " 12  Smoking         187428 non-null  object \n",
            "dtypes: float64(9), object(4)\n",
            "memory usage: 20.0+ MB\n",
            "None\n"
          ]
        }
      ]
    },
    {
      "cell_type": "markdown",
      "source": [
        "3.2 Exercises - Data Cleaning and Transformations with ”Titanic Dataset”:\n",
        "Dataset Used: \"titanic.csv\"\n",
        "Problem - 1:\n",
        "Create a DataFrame that is subsetted for the columns ’Name’, ’Pclass’, ’Sex’, ’Age’, ’Fare’, and ’Survived’.\n",
        "Retain only those rows where ’Pclass’ is equal to 1, representing first-class passengers. What is the mean,\n",
        "median, maximum value, and minimum value of the ’Fare’ column?"
      ],
      "metadata": {
        "id": "y-D6lEZpl_3B"
      }
    },
    {
      "cell_type": "code",
      "source": [
        "import pandas as pd\n",
        "titanic_df = pd.read_csv('/content/drive/MyDrive/datasets/Titanic-Dataset.csv')\n",
        "\n",
        "subset_df = titanic_df[['Name', 'Pclass', 'Sex', 'Age', 'Fare', 'Survived']]\n",
        "\n",
        "first_class_df = subset_df[subset_df['Pclass'] == 1]\n",
        "\n",
        "fare_stats = first_class_df['Fare'].agg(['mean', 'median', 'max', 'min'])\n",
        "\n",
        "fare_stats"
      ],
      "metadata": {
        "colab": {
          "base_uri": "https://localhost:8080/",
          "height": 210
        },
        "id": "h3N8yI0emDc9",
        "outputId": "2beeb780-95c7-42f8-c174-87a69ff55a45"
      },
      "execution_count": 8,
      "outputs": [
        {
          "output_type": "execute_result",
          "data": {
            "text/plain": [
              "mean       84.154687\n",
              "median     60.287500\n",
              "max       512.329200\n",
              "min         0.000000\n",
              "Name: Fare, dtype: float64"
            ],
            "text/html": [
              "<div>\n",
              "<style scoped>\n",
              "    .dataframe tbody tr th:only-of-type {\n",
              "        vertical-align: middle;\n",
              "    }\n",
              "\n",
              "    .dataframe tbody tr th {\n",
              "        vertical-align: top;\n",
              "    }\n",
              "\n",
              "    .dataframe thead th {\n",
              "        text-align: right;\n",
              "    }\n",
              "</style>\n",
              "<table border=\"1\" class=\"dataframe\">\n",
              "  <thead>\n",
              "    <tr style=\"text-align: right;\">\n",
              "      <th></th>\n",
              "      <th>Fare</th>\n",
              "    </tr>\n",
              "  </thead>\n",
              "  <tbody>\n",
              "    <tr>\n",
              "      <th>mean</th>\n",
              "      <td>84.154687</td>\n",
              "    </tr>\n",
              "    <tr>\n",
              "      <th>median</th>\n",
              "      <td>60.287500</td>\n",
              "    </tr>\n",
              "    <tr>\n",
              "      <th>max</th>\n",
              "      <td>512.329200</td>\n",
              "    </tr>\n",
              "    <tr>\n",
              "      <th>min</th>\n",
              "      <td>0.000000</td>\n",
              "    </tr>\n",
              "  </tbody>\n",
              "</table>\n",
              "</div><br><label><b>dtype:</b> float64</label>"
            ]
          },
          "metadata": {},
          "execution_count": 8
        }
      ]
    },
    {
      "cell_type": "markdown",
      "source": [
        "Problem - 2:\n",
        "How many null values are contained in the ’Age’ column in your subsetted DataFrame? Once you’ve found\n",
        "this out, drop them from your DataFrame."
      ],
      "metadata": {
        "id": "bPLWOvLjmUHp"
      }
    },
    {
      "cell_type": "code",
      "source": [
        "\n",
        "null_age_count = first_class_df['Age'].isnull().sum()\n",
        "print(f\"Number of null values in 'Age' column: {null_age_count}\")\n",
        "\n",
        "first_class_df.dropna(subset=['Age'], inplace=True)\n",
        "\n",
        "print(f\"Number of null values in 'Age' column after dropping: {first_class_df['Age'].isnull().sum()}\")"
      ],
      "metadata": {
        "colab": {
          "base_uri": "https://localhost:8080/"
        },
        "id": "A1BKMym1mN6U",
        "outputId": "0f7ebaee-2f5c-491e-ba70-379b75e65792"
      },
      "execution_count": 9,
      "outputs": [
        {
          "output_type": "stream",
          "name": "stdout",
          "text": [
            "Number of null values in 'Age' column: 30\n",
            "Number of null values in 'Age' column after dropping: 0\n"
          ]
        },
        {
          "output_type": "stream",
          "name": "stderr",
          "text": [
            "<ipython-input-9-00acc91e46e9>:4: SettingWithCopyWarning: \n",
            "A value is trying to be set on a copy of a slice from a DataFrame\n",
            "\n",
            "See the caveats in the documentation: https://pandas.pydata.org/pandas-docs/stable/user_guide/indexing.html#returning-a-view-versus-a-copy\n",
            "  first_class_df.dropna(subset=['Age'], inplace=True)\n"
          ]
        }
      ]
    },
    {
      "cell_type": "markdown",
      "source": [
        "Problem - 3:\n",
        "\n",
        "The ’Embarked’ column in the Titanic dataset contains categorical data representing the ports of embarka-\n",
        "tion:\n",
        "\n",
        "• ’C’ for Cherbourg\n",
        "• ’Q’ for Queenstown\n",
        "• ’S’ for Southampton\n",
        "Task:\n",
        "1. Use one-hot encoding to convert the ’Embarked’ column into separate binary columns (’Embarked C’,\n",
        "’Embarked Q’, ’Embarked S’).\n",
        "2. Add these new columns to the original DataFrame.\n",
        "3. Drop the original ’Embarked’ column.\n",
        "4. Print the first few rows of the modified DataFrame to verify the changes."
      ],
      "metadata": {
        "id": "NWNEDWbOmcWV"
      }
    },
    {
      "cell_type": "code",
      "source": [
        "embarked_dummies = pd.get_dummies(titanic_df['Embarked'], prefix='Embarked')\n",
        "titanic_df = pd.concat([titanic_df, embarked_dummies], axis=1)\n",
        "titanic_df.drop('Embarked', axis=1, inplace=True)\n",
        "print(titanic_df.head())"
      ],
      "metadata": {
        "colab": {
          "base_uri": "https://localhost:8080/"
        },
        "id": "pc5W3GobmfSk",
        "outputId": "9c5a1ce3-3adb-436c-d785-68c3ea38bb46"
      },
      "execution_count": 10,
      "outputs": [
        {
          "output_type": "stream",
          "name": "stdout",
          "text": [
            "   PassengerId  Survived  Pclass  \\\n",
            "0            1         0       3   \n",
            "1            2         1       1   \n",
            "2            3         1       3   \n",
            "3            4         1       1   \n",
            "4            5         0       3   \n",
            "\n",
            "                                                Name     Sex   Age  SibSp  \\\n",
            "0                            Braund, Mr. Owen Harris    male  22.0      1   \n",
            "1  Cumings, Mrs. John Bradley (Florence Briggs Th...  female  38.0      1   \n",
            "2                             Heikkinen, Miss. Laina  female  26.0      0   \n",
            "3       Futrelle, Mrs. Jacques Heath (Lily May Peel)  female  35.0      1   \n",
            "4                           Allen, Mr. William Henry    male  35.0      0   \n",
            "\n",
            "   Parch            Ticket     Fare Cabin  Embarked_C  Embarked_Q  Embarked_S  \n",
            "0      0         A/5 21171   7.2500   NaN       False       False        True  \n",
            "1      0          PC 17599  71.2833   C85        True       False       False  \n",
            "2      0  STON/O2. 3101282   7.9250   NaN       False       False        True  \n",
            "3      0            113803  53.1000  C123       False       False        True  \n",
            "4      0            373450   8.0500   NaN       False       False        True  \n"
          ]
        }
      ]
    },
    {
      "cell_type": "markdown",
      "source": [
        "Problem - 4:\n",
        "\n",
        "Compare the mean survival rates (’Survived’) for the different groups in the ’Sex’ column. Draw a visual-\n",
        "ization to show how the survival distributions vary by gender."
      ],
      "metadata": {
        "id": "9lzUGvZ7mmPs"
      }
    },
    {
      "cell_type": "code",
      "source": [
        "import matplotlib.pyplot as plt\n",
        "\n",
        "survival_by_sex = titanic_df.groupby('Sex')['Survived'].mean()\n",
        "print(survival_by_sex)\n",
        "\n",
        "plt.figure(figsize=(6, 4))\n",
        "survival_by_sex.plot(kind='bar')\n",
        "plt.title('Mean Survival Rate by Sex')\n",
        "plt.xlabel('Sex')\n",
        "plt.ylabel('Mean Survival Rate')\n",
        "plt.xticks(rotation=0)\n",
        "plt.show()"
      ],
      "metadata": {
        "colab": {
          "base_uri": "https://localhost:8080/",
          "height": 479
        },
        "id": "LlQC0bwumoBy",
        "outputId": "d32bd8ac-26d6-4436-8895-8b2ca1758e51"
      },
      "execution_count": 11,
      "outputs": [
        {
          "output_type": "stream",
          "name": "stdout",
          "text": [
            "Sex\n",
            "female    0.742038\n",
            "male      0.188908\n",
            "Name: Survived, dtype: float64\n"
          ]
        },
        {
          "output_type": "display_data",
          "data": {
            "text/plain": [
              "<Figure size 600x400 with 1 Axes>"
            ],
            "image/png": "[encoded data removed]"
          },
          "metadata": {}
        }
      ]
    },
    {
      "cell_type": "markdown",
      "source": [
        "Problem - 5:\n",
        "\n",
        "Draw a visualization that breaks your visualization from Exercise 3 down by the port of embarkation (’Em-\n",
        "barked’). In this instance, compare the ports ’C’ (Cherbourg), ’Q’ (Queenstown), and ’S’ (Southampton)."
      ],
      "metadata": {
        "id": "zFfaxcb4m5VA"
      }
    },
    {
      "cell_type": "code",
      "source": [
        "survival_by_sex_embarked = titanic_df.groupby(['Sex', 'Embarked_C', 'Embarked_Q', 'Embarked_S'])['Survived'].mean().unstack()\n",
        "print(survival_by_sex_embarked)\n",
        "\n",
        "survival_by_sex_embarked.plot(kind='bar', figsize=(10, 6))\n",
        "plt.title('Mean Survival Rate by Sex and Embarkation Port')\n",
        "plt.xlabel('Sex')\n",
        "plt.ylabel('Mean Survival Rate')\n",
        "plt.xticks(rotation=0)\n",
        "plt.legend(title='Embarkation Port')\n",
        "plt.show()"
      ],
      "metadata": {
        "colab": {
          "base_uri": "https://localhost:8080/",
          "height": 703
        },
        "id": "yPxRJhe6m5zn",
        "outputId": "f2c35a25-9a01-45a2-c24b-8949744bb329"
      },
      "execution_count": 12,
      "outputs": [
        {
          "output_type": "stream",
          "name": "stdout",
          "text": [
            "Embarked_S                       False     True \n",
            "Sex    Embarked_C Embarked_Q                    \n",
            "female False      False       1.000000  0.689655\n",
            "                  True        0.750000       NaN\n",
            "       True       False       0.876712       NaN\n",
            "male   False      False            NaN  0.174603\n",
            "                  True        0.073171       NaN\n",
            "       True       False       0.305263       NaN\n"
          ]
        },
        {
          "output_type": "display_data",
          "data": {
            "text/plain": [
              "<Figure size 1000x600 with 1 Axes>"
            ],
            "image/png": "[encoded data removed]"
          },
          "metadata": {}
        }
      ]
    }
  ]
}