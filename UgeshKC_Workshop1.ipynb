{
 "cells": [
  {
   "cell_type": "markdown",
   "metadata": {
    "id": "2Lzq-QSk0Qh3"
   },
   "source": [
    "4.1 Warming Up Exercise: Basic Vector and Matrix Operation with Numpy.\n",
    "Problem - 1: Array Creation:\n",
    "\n",
    "1. Initialize an empty array with size 2X2."
   ]
  },
  {
   "cell_type": "code",
   "execution_count": 2,
   "metadata": {
    "colab": {
     "base_uri": "https://localhost:8080/"
    },
    "id": "A-SdSk8Q0HOZ",
    "outputId": "e2eab51e-668c-4bba-efa1-99e79bfd4a69"
   },
   "outputs": [
    {
     "name": "stdout",
     "output_type": "stream",
     "text": [
      "[[0. 0.]\n",
      " [0. 0.]]\n"
     ]
    }
   ],
   "source": [
    "#University id:2431328\n",
    "#Student Name:Ugesh KC\n",
    "\n",
    "import numpy as np\n",
    "array_2x2 = np.zeros((2, 2))\n",
    "print(array_2x2)\n",
    "\n"
   ]
  },
  {
   "cell_type": "markdown",
   "metadata": {
    "id": "X5DecTIv1Epr"
   },
   "source": [
    "2. Initialize an all one array with size 4X2."
   ]
  },
  {
   "cell_type": "code",
   "execution_count": 9,
   "metadata": {
    "colab": {
     "base_uri": "https://localhost:8080/"
    },
    "id": "Qp9s7AmJ0bcU",
    "outputId": "f0f64243-4c2a-4b31-c95e-d0e02820f74c"
   },
   "outputs": [
    {
     "name": "stdout",
     "output_type": "stream",
     "text": [
      "[[1. 1.]\n",
      " [1. 1.]\n",
      " [1. 1.]\n",
      " [1. 1.]]\n"
     ]
    }
   ],
   "source": [
    "import numpy as np\n",
    "\n",
    "ones_array = np.ones((4, 2))\n",
    "print(ones_array)\n"
   ]
  },
  {
   "cell_type": "markdown",
   "metadata": {
    "id": "Ih5l24W-1L9G"
   },
   "source": [
    "3. Return a new array of given shape and type, filled with fill value.{Hint: np.full}"
   ]
  },
  {
   "cell_type": "code",
   "execution_count": 4,
   "metadata": {
    "colab": {
     "base_uri": "https://localhost:8080/"
    },
    "id": "PDWEFa_h2sHg",
    "outputId": "55908474-c086-4479-95b0-d6c75e218822"
   },
   "outputs": [
    {
     "name": "stdout",
     "output_type": "stream",
     "text": [
      "[[69 69 69]\n",
      " [69 69 69]\n",
      " [69 69 69]]\n"
     ]
    }
   ],
   "source": [
    "fill_array = np.full((3, 3), 69)\n",
    "print(fill_array)\n"
   ]
  },
  {
   "cell_type": "markdown",
   "metadata": {
    "id": "8ELQYdhI1Pte"
   },
   "source": [
    "4. Return a new array of zeros with same shape and type as a given array.{Hint: np.zeros like}"
   ]
  },
  {
   "cell_type": "code",
   "execution_count": 7,
   "metadata": {
    "colab": {
     "base_uri": "https://localhost:8080/"
    },
    "id": "r3m3D-fl1Xdz",
    "outputId": "854d9e00-37af-4c8d-900a-d62c20c56f53"
   },
   "outputs": [
    {
     "name": "stdout",
     "output_type": "stream",
     "text": [
      "[[0 0]\n",
      " [0 0]]\n"
     ]
    }
   ],
   "source": [
    "reference_array = np.array([[1, 2], [3, 4]])\n",
    "zeros_like_array = np.zeros_like(reference_array)\n",
    "print(zeros_like_array)\n"
   ]
  },
  {
   "cell_type": "markdown",
   "metadata": {
    "id": "lSNBVDq61cuc"
   },
   "source": [
    "5. Return a new array of ones with same shape and type as a given array.{Hint: np.ones like}\n"
   ]
  },
  {
   "cell_type": "code",
   "execution_count": 6,
   "metadata": {
    "colab": {
     "base_uri": "https://localhost:8080/"
    },
    "id": "SweXXm9s2ypr",
    "outputId": "b882d0d6-c656-41b2-e77b-4b6bff8fe970"
   },
   "outputs": [
    {
     "name": "stdout",
     "output_type": "stream",
     "text": [
      "[[1 1]\n",
      " [1 1]]\n"
     ]
    }
   ],
   "source": [
    "reference_array = np.array([[1, 2], [3, 4]])\n",
    "ones_like_array = np.ones_like(reference_array)\n",
    "print(ones_like_array)\n"
   ]
  },
  {
   "cell_type": "markdown",
   "metadata": {
    "id": "tTms2Vkl1dIl"
   },
   "source": [
    "6. For an existing list new_list = [1,2,3,4] convert to an numpy array.{Hint: np.array()}"
   ]
  },
  {
   "cell_type": "code",
   "execution_count": 8,
   "metadata": {
    "colab": {
     "base_uri": "https://localhost:8080/"
    },
    "id": "xhPjPRyc2z0f",
    "outputId": "ae11e85a-e0d3-4482-ad73-ac8273191e16"
   },
   "outputs": [
    {
     "name": "stdout",
     "output_type": "stream",
     "text": [
      "[1 2 3 4]\n"
     ]
    }
   ],
   "source": [
    "new_list = [1, 2, 3, 4]\n",
    "numpy_array = np.array(new_list)\n",
    "print(numpy_array)\n"
   ]
  },
  {
   "cell_type": "markdown",
   "metadata": {
    "id": "6hI_SLiw1dj8"
   },
   "source": [
    "4.1.1 Problem - 2: Array Manipulation: Numerical Ranges and Array indexing:\n",
    "Complete the following tasks:\n",
    "1. Create an array with values ranging from 10 to 49. {Hint:np.arrange()}.\n"
   ]
  },
  {
   "cell_type": "code",
   "execution_count": 11,
   "metadata": {
    "colab": {
     "base_uri": "https://localhost:8080/"
    },
    "id": "ZXEEX-cT20-b",
    "outputId": "e085add5-fbf1-430d-ce96-1e3112945789"
   },
   "outputs": [
    {
     "name": "stdout",
     "output_type": "stream",
     "text": [
      "[10 11 12 13 14 15 16 17 18 19 20 21 22 23 24 25 26 27 28 29 30 31 32 33\n",
      " 34 35 36 37 38 39 40 41 42 43 44 45 46 47 48 49]\n"
     ]
    }
   ],
   "source": [
    "range_array = np.arange(10, 50)\n",
    "print(range_array)\n"
   ]
  },
  {
   "cell_type": "markdown",
   "metadata": {
    "id": "j3FP0IY-1d7l"
   },
   "source": [
    "2. Create a 3X3 matrix with values ranging from 0 to 8.\n",
    "{Hint:look for np.reshape()}"
   ]
  },
  {
   "cell_type": "code",
   "execution_count": 12,
   "metadata": {
    "colab": {
     "base_uri": "https://localhost:8080/"
    },
    "id": "WyS73lGv21uL",
    "outputId": "fd3838d8-2242-4ee9-fddc-8d48ec5fba13"
   },
   "outputs": [
    {
     "name": "stdout",
     "output_type": "stream",
     "text": [
      "[[0 1 2]\n",
      " [3 4 5]\n",
      " [6 7 8]]\n"
     ]
    }
   ],
   "source": [
    "reshaped_array = np.arange(9).reshape(3, 3)\n",
    "print(reshaped_array)\n"
   ]
  },
  {
   "cell_type": "markdown",
   "metadata": {
    "id": "B9AogeTP1eUL"
   },
   "source": [
    "3. Create a 3X3 identity matrix.{Hint:np.eye()}\n"
   ]
  },
  {
   "cell_type": "code",
   "execution_count": 13,
   "metadata": {
    "colab": {
     "base_uri": "https://localhost:8080/"
    },
    "id": "6a9xODqe22ux",
    "outputId": "e0fe2c32-0208-45de-a188-46bae9d47984"
   },
   "outputs": [
    {
     "name": "stdout",
     "output_type": "stream",
     "text": [
      "[[1. 0. 0.]\n",
      " [0. 1. 0.]\n",
      " [0. 0. 1.]]\n"
     ]
    }
   ],
   "source": [
    "identity_matrix = np.eye(3)\n",
    "print(identity_matrix)\n"
   ]
  },
  {
   "cell_type": "markdown",
   "metadata": {
    "id": "PvVLSIe_1etU"
   },
   "source": [
    "4. Create a random array of size 30 and find the mean of the array.\n",
    "{Hint:check for np.random.random() and array.mean() function}\n"
   ]
  },
  {
   "cell_type": "code",
   "execution_count": 14,
   "metadata": {
    "colab": {
     "base_uri": "https://localhost:8080/"
    },
    "id": "B4IRZOeX23QS",
    "outputId": "5a5ce6d2-e944-4f73-c6f8-d881b43b58b4"
   },
   "outputs": [
    {
     "name": "stdout",
     "output_type": "stream",
     "text": [
      "0.536202924900463\n"
     ]
    }
   ],
   "source": [
    "random_array = np.random.random(30)\n",
    "mean_value = random_array.mean()\n",
    "print(mean_value)\n"
   ]
  },
  {
   "cell_type": "markdown",
   "metadata": {
    "id": "zdZZPhuM1fGW"
   },
   "source": [
    "5. Create a 10X10 array with random values and find the minimum and maximum values."
   ]
  },
  {
   "cell_type": "code",
   "execution_count": 15,
   "metadata": {
    "colab": {
     "base_uri": "https://localhost:8080/"
    },
    "id": "Yv-mUmY8230R",
    "outputId": "cd36c3d2-175a-430c-be60-2b5fb901da14"
   },
   "outputs": [
    {
     "name": "stdout",
     "output_type": "stream",
     "text": [
      "0.005066924477104329 0.9996948238148546\n"
     ]
    }
   ],
   "source": [
    "random_matrix = np.random.random((10, 10))\n",
    "min_value = random_matrix.min()\n",
    "max_value = random_matrix.max()\n",
    "print(min_value, max_value)\n"
   ]
  },
  {
   "cell_type": "markdown",
   "metadata": {
    "id": "gOdH2EXJ1fe8"
   },
   "source": [
    "6. Create a zero array of size 10 and replace 5th element with 1.\n"
   ]
  },
  {
   "cell_type": "code",
   "execution_count": 16,
   "metadata": {
    "colab": {
     "base_uri": "https://localhost:8080/"
    },
    "id": "yGVbB6p024Nm",
    "outputId": "56bd9af8-5c00-414f-9d73-19e29111f6a4"
   },
   "outputs": [
    {
     "name": "stdout",
     "output_type": "stream",
     "text": [
      "[0. 0. 0. 0. 1. 0. 0. 0. 0. 0.]\n"
     ]
    }
   ],
   "source": [
    "zero_array = np.zeros(10)\n",
    "zero_array[4] = 1\n",
    "print(zero_array)\n"
   ]
  },
  {
   "cell_type": "markdown",
   "metadata": {
    "id": "de8WtI6B1f9V"
   },
   "source": [
    "7. Reverse an array arr = [1,2,0,0,4,0].\n"
   ]
  },
  {
   "cell_type": "code",
   "execution_count": 17,
   "metadata": {
    "colab": {
     "base_uri": "https://localhost:8080/"
    },
    "id": "s46gW2Xd249s",
    "outputId": "fec83f8a-662e-4814-9b31-366dd2a4332b"
   },
   "outputs": [
    {
     "name": "stdout",
     "output_type": "stream",
     "text": [
      "[0, 4, 0, 0, 2, 1]\n"
     ]
    }
   ],
   "source": [
    "arr = [1, 2, 0, 0, 4, 0]\n",
    "reversed_array = arr[::-1]\n",
    "print(reversed_array)\n"
   ]
  },
  {
   "cell_type": "markdown",
   "metadata": {
    "id": "N8i_sp2y1gZh"
   },
   "source": [
    "\n",
    "8. Create a 2d array with 1 on border and 0 inside.\n"
   ]
  },
  {
   "cell_type": "code",
   "execution_count": 18,
   "metadata": {
    "colab": {
     "base_uri": "https://localhost:8080/"
    },
    "id": "VnQN5nS425qG",
    "outputId": "5457bd6e-ad22-4ed5-830b-22eb4b9aca99"
   },
   "outputs": [
    {
     "name": "stdout",
     "output_type": "stream",
     "text": [
      "[[1. 1. 1. 1. 1.]\n",
      " [1. 0. 0. 0. 1.]\n",
      " [1. 0. 0. 0. 1.]\n",
      " [1. 0. 0. 0. 1.]\n",
      " [1. 1. 1. 1. 1.]]\n"
     ]
    }
   ],
   "source": [
    "border_array = np.ones((5, 5))\n",
    "border_array[1:-1, 1:-1] = 0\n",
    "print(border_array)\n"
   ]
  },
  {
   "cell_type": "markdown",
   "metadata": {
    "id": "Q2qOjjTX1g6G"
   },
   "source": [
    "\n",
    "9. Create a 8X8 matrix and fill it with a checkerboard pattern."
   ]
  },
  {
   "cell_type": "code",
   "execution_count": 19,
   "metadata": {
    "colab": {
     "base_uri": "https://localhost:8080/"
    },
    "id": "6Vk-byI526I9",
    "outputId": "0d183f06-590f-4ba1-80d4-64c5e6ed8c6a"
   },
   "outputs": [
    {
     "name": "stdout",
     "output_type": "stream",
     "text": [
      "[[0 1 0 1 0 1 0 1]\n",
      " [1 0 1 0 1 0 1 0]\n",
      " [0 1 0 1 0 1 0 1]\n",
      " [1 0 1 0 1 0 1 0]\n",
      " [0 1 0 1 0 1 0 1]\n",
      " [1 0 1 0 1 0 1 0]\n",
      " [0 1 0 1 0 1 0 1]\n",
      " [1 0 1 0 1 0 1 0]]\n"
     ]
    }
   ],
   "source": [
    "checkerboard = np.zeros((8, 8), dtype=int)\n",
    "checkerboard[1::2, ::2] = 1\n",
    "checkerboard[::2, 1::2] = 1\n",
    "print(checkerboard)\n"
   ]
  },
  {
   "cell_type": "markdown",
   "metadata": {
    "id": "aifB_fnR1hXV"
   },
   "source": [
    "Problem - 3: Array Operations:\n",
    "For the following arrays:\n",
    "x = np.array([[1,2],[3,5]]) and y = np.array([[5,6],[7,8]]);\n",
    "v = np.array([9,10]) and w = np.array([11,12]);\n",
    "Complete all the task using numpy:\n",
    "1. Add the two array.\n",
    "2. Subtract the two array.\n",
    "3. Multiply the array with any integers of your choice.\n",
    "4. Find the square of each element of the array.\n",
    "5. Find the dot product between: v(and)w ; x(and)v ; x(and)y.\n",
    "6. Concatenate x(and)y along row and Concatenate v(and)w along column.\n",
    "{Hint:try np.concatenate() or np.vstack() functions.\n",
    "7. Concatenate x(and)v; if you get an error, observe and explain why did you get the error?"
   ]
  },
  {
   "cell_type": "code",
   "execution_count": 25,
   "metadata": {
    "colab": {
     "base_uri": "https://localhost:8080/"
    },
    "id": "iIqcZqF327D1",
    "outputId": "e56d0d14-b55c-4ab0-e944-52cf0dfe5ccf"
   },
   "outputs": [
    {
     "name": "stdout",
     "output_type": "stream",
     "text": [
      "add result = [[ 6  8]\n",
      " [10 13]]\n",
      "subtract result = [[-4 -4]\n",
      " [-4 -3]]\n",
      "multiply result = [[ 2  4]\n",
      " [ 6 10]]\n",
      "square result = [[ 1  4]\n",
      " [ 9 25]]\n",
      "dot product of vw =  219 dot product of xv=  [29 77] dot product of xy [[19 22]\n",
      " [50 58]]\n",
      "Concatenate x(and)y along row we get: [[1 2]\n",
      " [3 5]\n",
      " [5 6]\n",
      " [7 8]]\n",
      "Concatenate v(and)w along column we get: [[ 9 10]\n",
      " [11 12]]\n",
      "all the input arrays must have same number of dimensions, but the array at index 0 has 2 dimension(s) and the array at index 1 has 1 dimension(s)\n"
     ]
    }
   ],
   "source": [
    "x = np.array([[1, 2], [3, 5]])\n",
    "y = np.array([[5, 6], [7, 8]])\n",
    "v = np.array([9, 10])\n",
    "w = np.array([11, 12])\n",
    "add_result = x + y\n",
    "print(\"add result =\",add_result)\n",
    "subtract_result = x - y\n",
    "print(\"subtract result =\",subtract_result)\n",
    "multiply_result = x * 2\n",
    "print(\"multiply result =\",multiply_result)\n",
    "square_result = x ** 2\n",
    "print(\"square result =\",square_result)\n",
    "dot_vw = np.dot(v, w)\n",
    "dot_xv = np.dot(x, v)\n",
    "dot_xy = np.dot(x, y)\n",
    "print(\"dot product of vw = \",dot_vw,\"dot product of xv= \",dot_xv,\"dot product of xy\", dot_xy)\n",
    "concat_xy_row = np.concatenate((x, y), axis=0)\n",
    "concat_vw_column = np.vstack((v, w))\n",
    "print(\"Concatenate x(and)y along row we get:\",concat_xy_row)\n",
    "print(\"Concatenate v(and)w along column we get:\",concat_vw_column)\n",
    "try:\n",
    "    concat_xv = np.concatenate((x, v), axis=0)\n",
    "except ValueError as e:\n",
    "    print(e)\n",
    "\n",
    "\n"
   ]
  },
  {
   "cell_type": "markdown",
   "metadata": {
    "id": "KqX1rotS1h1f"
   },
   "source": [
    "Problem - 4: Matrix Operations:\n",
    "• For the following arrays:\n",
    "A = np.array([[3,4],[7,8]]) and B = np.array([[5,3],[2,1]]);\n",
    "Prove following with Numpy:\n",
    "1. Prove A.A−1 = I.\n",
    "2. Prove AB ̸= BA.\n",
    "3. Prove (AB)\n",
    "\n",
    "T = BTAT\n",
    "."
   ]
  },
  {
   "cell_type": "code",
   "execution_count": 32,
   "metadata": {
    "colab": {
     "base_uri": "https://localhost:8080/"
    },
    "id": "jhn38Xe827xv",
    "outputId": "0f29641f-e99e-4aab-d602-38ce7e8890c8"
   },
   "outputs": [
    {
     "name": "stdout",
     "output_type": "stream",
     "text": [
      "A * A⁻¹ =\n",
      " [[1.00000000e+00 0.00000000e+00]\n",
      " [1.77635684e-15 1.00000000e+00]]\n",
      "AB =\n",
      " [[23 13]\n",
      " [51 29]]\n",
      "BA =\n",
      " [[36 44]\n",
      " [13 16]]\n",
      "AB ≠ BA is not  False\n",
      "(AB)ᵀ =\n",
      " [[23 51]\n",
      " [13 29]]\n",
      "BᵀAᵀ =\n",
      " [[23 51]\n",
      " [13 29]]\n",
      "(AB)ᵀ = BᵀAᵀ is True\n"
     ]
    }
   ],
   "source": [
    "import numpy as np\n",
    "\n",
    "\n",
    "A = np.array([[3, 4], [7, 8]])\n",
    "B = np.array([[5, 3], [2, 1]])\n",
    "\n",
    "A_inv = np.linalg.inv(A)\n",
    "A_A_inv = np.dot(A, A_inv)\n",
    "print(\"A * A⁻¹ =\\n\", A_A_inv)\n",
    "\n",
    "AB = np.dot(A, B)\n",
    "BA = np.dot(B, A)\n",
    "print(\"AB =\\n\", AB)\n",
    "print(\"BA =\\n\", BA)\n",
    "print(\"AB ≠ BA is not \",  np.allclose(AB, BA))\n",
    "\n",
    "AB_T = np.transpose(AB)\n",
    "BT_AT = np.dot(B.T, A.T)\n",
    "print(\"(AB)ᵀ =\\n\", AB_T)\n",
    "print(\"BᵀAᵀ =\\n\", BT_AT)\n",
    "print(\"(AB)ᵀ = BᵀAᵀ is\", np.allclose(AB_T, BT_AT))\n"
   ]
  },
  {
   "cell_type": "markdown",
   "metadata": {
    "id": "4KQUt6R11iQB"
   },
   "source": [
    "Solve the following system of Linear equation using Inverse Methods.\n",
    "\n",
    "2x − 3y + z = −1\n",
    "x − y + 2z = −3\n",
    "3x + y − z = 9\n",
    "\n",
    "{Hint: First use Numpy array to represent the equation in Matrix form. Then Solve for: AX = B}"
   ]
  },
  {
   "cell_type": "code",
   "execution_count": 30,
   "metadata": {
    "colab": {
     "base_uri": "https://localhost:8080/"
    },
    "id": "y0MjjwXN28iC",
    "outputId": "a260283b-8ab7-41e8-9730-4e4daf9a5a36"
   },
   "outputs": [
    {
     "name": "stdout",
     "output_type": "stream",
     "text": [
      "Solution:\n",
      "x = 2.0\n",
      "y = 1.0\n",
      "z = -2.0\n"
     ]
    }
   ],
   "source": [
    "import numpy as np\n",
    "A = np.array([[2, -3, 1], [1, -1, 2], [3, 1, -1]])\n",
    "B = np.array([-1, -3, 9])\n",
    "A_inv = np.linalg.inv(A)\n",
    "X = np.dot(A_inv, B)\n",
    "print(\"Solution:\")\n",
    "print(\"x =\", X[0])\n",
    "print(\"y =\", X[1])\n",
    "print(\"z =\", X[2])"
   ]
  },
  {
   "cell_type": "markdown",
   "metadata": {
    "id": "NrcUxc4H1ihk"
   },
   "source": [
    "• Now: solve the above equation using np.linalg.inv function.{Explore more about ”linalg” function\n",
    "of Numpy}"
   ]
  },
  {
   "cell_type": "code",
   "execution_count": 31,
   "metadata": {
    "colab": {
     "base_uri": "https://localhost:8080/"
    },
    "id": "Izy3PiVz29pY",
    "outputId": "e19cf5f1-fe52-417f-9325-121afe0327ea"
   },
   "outputs": [
    {
     "name": "stdout",
     "output_type": "stream",
     "text": [
      "Solution using np.linalg.solve:\n",
      "x = 2.0\n",
      "y = 1.0000000000000002\n",
      "z = -2.0\n"
     ]
    }
   ],
   "source": [
    "A = np.array([[2, -3, 1], [1, -1, 2], [3, 1, -1]])\n",
    "B = np.array([-1, -3, 9])\n",
    "X = np.linalg.solve(A, B)\n",
    "print(\"Solution using np.linalg.solve:\")\n",
    "print(\"x =\", X[0])\n",
    "print(\"y =\", X[1])\n",
    "print(\"z =\", X[2])"
   ]
  }
 ],
 "metadata": {
  "colab": {
   "provenance": []
  },
  "kernelspec": {
   "display_name": "Python 3",
   "name": "python3"
  },
  "language_info": {
   "name": "python"
  }
 },
 "nbformat": 4,
 "nbformat_minor": 0
}
