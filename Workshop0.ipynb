{
  "nbformat": 4,
  "nbformat_minor": 0,
  "metadata": {
    "colab": {
      "provenance": []
    },
    "kernelspec": {
      "name": "python3",
      "display_name": "Python 3"
    },
    "language_info": {
      "name": "python"
    }
  },
  "cells": [
    {
      "cell_type": "markdown",
      "source": [
        "Name:Ugesh KC    ID:2431328\n"
      ],
      "metadata": {
        "id": "2bT3gGEbwxOB"
      }
    },
    {
      "cell_type": "markdown",
      "source": [
        "**Warming up Exercise**"
      ],
      "metadata": {
        "id": "tny4QmPGx0Y9"
      }
    },
    {
      "cell_type": "markdown",
      "source": [
        "task 1:\n",
        "Classify Tempreture\n",
        "1. Create empty lists for temperature classifications:\n",
        "(a) Cold: temperatures below 10°C.\n",
        "(b) Mild: temperatures between 10°C and 15°C.\n",
        "(c) Comfortable: temperatures between 15°C and 20°C.\n",
        "\n",
        "2. Iterate over the temperatures list and add each temperature to the appropriate cate-\n",
        "gory.\n",
        "\n",
        "3. Print the lists to verify the classifications.\n"
      ],
      "metadata": {
        "id": "FjuMqse1xqJ0"
      }
    },
    {
      "cell_type": "code",
      "execution_count": null,
      "metadata": {
        "colab": {
          "base_uri": "https://localhost:8080/"
        },
        "id": "_sJFtx7SxNKK",
        "outputId": "8ef77d35-4466-49b9-b6cf-df05003e43a5"
      },
      "outputs": [
        {
          "output_type": "stream",
          "name": "stdout",
          "text": [
            "Cold Temperatures: [8.2, 7.9, 9.0, 8.5, 7.7, 8.4, 9.5, 8.1, 7.6, 8.0, 7.8, 8.7, 9.2, 8.3, 8.9, 7.8]\n",
            "Mild Temperatures: [14.1, 13.5, 13.0, 12.9, 13.3, 14.0, 13.4, 14.2, 12.8, 13.7, 13.6, 13.8, 13.9, 12.7, 13.1, 12.5]\n",
            "Comfortable Temperatures: [17.4, 18.0, 17.8, 16.5, 17.2, 16.7, 18.3, 17.9, 17.0, 16.8, 17.5, 17.1, 18.1, 16.4, 18.2, 16.6]\n"
          ]
        }
      ],
      "source": [
        "\n",
        "temperatures = [\n",
        "    8.2, 17.4, 14.1, 7.9, 18.0, 13.5, 9.0, 17.8, 13.0, 8.5,\n",
        "    16.5, 12.9, 7.7, 17.2, 13.3, 8.4, 16.7, 14.0, 9.5, 18.3,\n",
        "    13.4, 8.1, 17.9, 14.2, 7.6, 17.0, 12.8, 8.0, 16.8, 13.7,\n",
        "    7.8, 17.5, 13.6, 8.7, 17.1, 13.8, 9.2, 18.1, 13.9, 8.3,\n",
        "    16.4, 12.7, 8.9, 18.2, 13.1, 7.8, 16.6, 12.5\n",
        "]\n",
        "\n",
        "cold = [temp for temp in temperatures if temp < 10]\n",
        "mild = [temp for temp in temperatures if 10 <= temp < 15]\n",
        "comfortable = [temp for temp in temperatures if 15 <= temp <= 20]\n",
        "\n",
        "print(\"Cold Temperatures:\", cold)\n",
        "print(\"Mild Temperatures:\", mild)\n",
        "print(\"Comfortable Temperatures:\", comfortable)\n"
      ]
    },
    {
      "cell_type": "markdown",
      "source": [
        "Task 2. Based on Data - Answer all the Questions:\n",
        "1. How many times was it mild?\n",
        "(a) Hint: Count the number of items in the mild list and print the result.\n",
        "2. How many times was it comfortable?\n",
        "3. How many times was it cold?"
      ],
      "metadata": {
        "id": "iIlmVUurzvTn"
      }
    },
    {
      "cell_type": "code",
      "source": [
        "cold_count = len(cold)\n",
        "mild_count = len(mild)\n",
        "comfortable_count = len(comfortable)\n",
        "\n",
        "print(\"Number of Cold Days:\", cold_count)\n",
        "print(\"Number of Mild Days:\", mild_count)\n",
        "print(\"Number of Comfortable Days:\", comfortable_count)\n"
      ],
      "metadata": {
        "colab": {
          "base_uri": "https://localhost:8080/"
        },
        "id": "8A1w6oYtzzJC",
        "outputId": "5b7f5b25-e4f4-433e-ddce-fd383414f6ab"
      },
      "execution_count": null,
      "outputs": [
        {
          "output_type": "stream",
          "name": "stdout",
          "text": [
            "Number of Cold Days: 16\n",
            "Number of Mild Days: 16\n",
            "Number of Comfortable Days: 16\n"
          ]
        }
      ]
    },
    {
      "cell_type": "markdown",
      "source": [
        "Task 3. Convert Temperatures from Celsius to Fahrenheit\n",
        "\n",
        "Using the formula for temperature conversion, convert each reading from Celsius to Fahren-\n",
        "heit and store it in a new list called temperatures_fahrenheit.\n",
        "\n",
        "Formula: Fahrenheit = (Celsius ×\n",
        "9\n",
        "5\n",
        ") + 32\n",
        "\n",
        "1. Iterate over the temperatures list and apply the formula to convert each temperature.\n",
        "2. Store the results in the new list.\n",
        "3. Print the converted Fahrenheit values."
      ],
      "metadata": {
        "id": "B6ESeKAtz6gJ"
      }
    },
    {
      "cell_type": "code",
      "source": [
        "temperatures_fahrenheit = [(temp * 9 / 5) + 32 for temp in temperatures]\n",
        "print(\"Temperatures in Fahrenheit:\", temperatures_fahrenheit)\n"
      ],
      "metadata": {
        "colab": {
          "base_uri": "https://localhost:8080/"
        },
        "id": "oNZ1Hq-vz9v3",
        "outputId": "dd3a80f6-bbca-483d-843d-90a55e57e54e"
      },
      "execution_count": null,
      "outputs": [
        {
          "output_type": "stream",
          "name": "stdout",
          "text": [
            "Temperatures in Fahrenheit: [46.76, 63.32, 57.379999999999995, 46.22, 64.4, 56.3, 48.2, 64.04, 55.4, 47.3, 61.7, 55.22, 45.86, 62.959999999999994, 55.94, 47.120000000000005, 62.059999999999995, 57.2, 49.1, 64.94, 56.120000000000005, 46.58, 64.22, 57.56, 45.68, 62.6, 55.04, 46.4, 62.24, 56.66, 46.04, 63.5, 56.48, 47.66, 62.78, 56.84, 48.56, 64.58, 57.02, 46.94, 61.519999999999996, 54.86, 48.02, 64.75999999999999, 55.58, 46.04, 61.88, 54.5]\n"
          ]
        }
      ]
    },
    {
      "cell_type": "markdown",
      "source": [
        "Task 4. Analyze Temperature Patterns by Time of Day:\n",
        "Scenario: Each day’s readings are grouped as:\n",
        "• Night (00-08),\n",
        "• Evening (08-16),\n",
        "• Day (16-24).\n",
        "1. Create empty lists for night, day, and evening temperatures.\n",
        "2. Iterate over the temperatures list, assigning values to each time-of-day list based on\n",
        "their position.\n",
        "3. Calculate and print the average day-time temperature.\n",
        "4. (Optional) Plot ”day vs. temperature” using matplotlib."
      ],
      "metadata": {
        "id": "XOjkjJ_s0E1P"
      }
    },
    {
      "cell_type": "code",
      "source": [
        "\n",
        "night = temperatures[::3]\n",
        "evening = temperatures[1::3]\n",
        "day = temperatures[2::3]\n",
        "avg_night = sum(night) / len(night)\n",
        "avg_evening = sum(evening) / len(evening)\n",
        "avg_day = sum(day) / len(day)\n",
        "print(\"Night Temperatures:\", night)\n",
        "print(\"Evening Temperatures:\", evening)\n",
        "print(\"Day Temperatures:\", day)\n",
        "print(f\"Average Night Temperature: {avg_night:.2f}\")\n",
        "print(f\"Average Evening Temperature: {avg_evening:.2f}\")\n",
        "print(f\"Average Day Temperature: {avg_day:.2f}\")\n"
      ],
      "metadata": {
        "colab": {
          "base_uri": "https://localhost:8080/"
        },
        "id": "AS5rbE8W0Hh7",
        "outputId": "d97ec824-1870-4eb3-e999-f656ee4b0229"
      },
      "execution_count": null,
      "outputs": [
        {
          "output_type": "stream",
          "name": "stdout",
          "text": [
            "Night Temperatures: [8.2, 7.9, 9.0, 8.5, 7.7, 8.4, 9.5, 8.1, 7.6, 8.0, 7.8, 8.7, 9.2, 8.3, 8.9, 7.8]\n",
            "Evening Temperatures: [17.4, 18.0, 17.8, 16.5, 17.2, 16.7, 18.3, 17.9, 17.0, 16.8, 17.5, 17.1, 18.1, 16.4, 18.2, 16.6]\n",
            "Day Temperatures: [14.1, 13.5, 13.0, 12.9, 13.3, 14.0, 13.4, 14.2, 12.8, 13.7, 13.6, 13.8, 13.9, 12.7, 13.1, 12.5]\n",
            "Average Night Temperature: 8.35\n",
            "Average Evening Temperature: 17.34\n",
            "Average Day Temperature: 13.41\n"
          ]
        }
      ]
    },
    {
      "cell_type": "markdown",
      "source": [
        "8.1.1 Exercise - Recursion:\n",
        "Task 1 - Sum of Nested Lists:\n",
        "Scenario: You have a list that contains numbers and other lists of numbers (nested lists).\n",
        "You want to find the total sum of all the numbers in this structure.\n",
        "Task:\n",
        "• Write a recursive function sum_nested_list(nested_list) that:\n",
        "1. Takes a nested list (a list that can contain numbers or other lists of numbers) as\n",
        "input.\n",
        "2. Sums all numbers at every depth level of the list, regardless of how deeply nested\n",
        "the numbers are.\n",
        "• Test the function with a sample nested list, such as\n",
        "nested_list = [1, [2, [3, 4], 5], 6, [7, 8]].\n",
        "The result should be the total sum of all the numbers."
      ],
      "metadata": {
        "id": "xJGUQ5WE0Qhv"
      }
    },
    {
      "cell_type": "code",
      "source": [
        "def sum_nested_list(nested_list):\n",
        "    total = 0\n",
        "    for element in nested_list:\n",
        "        if isinstance(element, list):\n",
        "            total += sum_nested_list(element)\n",
        "        else:\n",
        "            total += element\n",
        "    return total\n",
        "nested_list = [1, [2, [3, 4], 5], 6, [7, 8]]\n",
        "result = sum_nested_list(nested_list)\n",
        "print(f\"The sum of all numbers in the nested list is: {result}\")\n"
      ],
      "metadata": {
        "colab": {
          "base_uri": "https://localhost:8080/"
        },
        "id": "7A0akBdA0jeC",
        "outputId": "ef0bda85-ddfa-4e2e-a3c0-cb9f0127fccc"
      },
      "execution_count": null,
      "outputs": [
        {
          "output_type": "stream",
          "name": "stdout",
          "text": [
            "The sum of all numbers in the nested list is: 36\n"
          ]
        }
      ]
    },
    {
      "cell_type": "markdown",
      "source": [
        "Task 2 - Generate All Permutations of a String:\n",
        "Scenario: Given a string, generate all possible permutations of its characters. This is useful\n",
        "for understanding backtracking and recursive depth-first search.\n",
        "Task:\n",
        "• Write a recursive function generate_permutations(s) that:\n",
        "– Takes a string s as input and returns a list of all unique permutations.\n",
        "• Test with strings like ”abc” and ”aab”.\n",
        "\n",
        "print(generate_permutations(\"abc\"))\n",
        "# Should return [’abc’, ’acb’, ’bac’, ’bca’, ’cab’, ’cba’]"
      ],
      "metadata": {
        "id": "jJiWGRht06iR"
      }
    },
    {
      "cell_type": "code",
      "source": [
        "def generate_permutations(s):\n",
        "    if len(s) == 1:\n",
        "        return [s]\n",
        "    perms = []\n",
        "    for i, char in enumerate(s):\n",
        "        for perm in generate_permutations(s[:i] + s[i+1:]):\n",
        "            perms.append(char + perm)\n",
        "    return perms\n",
        "print(generate_permutations(\"abc\"))"
      ],
      "metadata": {
        "colab": {
          "base_uri": "https://localhost:8080/"
        },
        "id": "p_xG6mcp098A",
        "outputId": "fade9605-8f69-4585-e3d7-4f1a7b36a889"
      },
      "execution_count": null,
      "outputs": [
        {
          "output_type": "stream",
          "name": "stdout",
          "text": [
            "['abc', 'acb', 'bac', 'bca', 'cab', 'cba']\n"
          ]
        }
      ]
    },
    {
      "cell_type": "markdown",
      "source": [
        "Task 3 - Directory Size Calculation:\n",
        "Directory Size Calculation Scenario: Imagine a file system where directories can contain files\n",
        "(with sizes in KB) and other directories. You want to calculate the total size of a directory,\n",
        "including all nested files and subdirectories.\n",
        "\n",
        "Sample directory structure.\n",
        "\n",
        "# Sample directory structure\n",
        "directory_structure = {\n",
        "\"file1.txt\": 200,\n",
        "\"file2.txt\": 300,\n",
        "\"subdir1\": {\n",
        "\"file3.txt\": 400,\n",
        "\"file4.txt\": 100\n",
        "},\n",
        "\"subdir2\": {\n",
        "\"subsubdir1\": {\n",
        "\"file5.txt\": 250\n",
        "},\"file6.txt\": 150\n",
        "}\n",
        "}"
      ],
      "metadata": {
        "id": "aNHuPT5v1XVA"
      }
    },
    {
      "cell_type": "code",
      "source": [
        "def calculate_directory_size(directory):\n",
        "    total_size = 0\n",
        "    for key, value in directory.items():\n",
        "        if isinstance(value, dict):\n",
        "            total_size += calculate_directory_size(value)\n",
        "        else:\n",
        "            total_size += value\n",
        "    return total_size\n",
        "\n",
        "directory_st = {\n",
        "    \"file1.txt\": 200,\n",
        "    \"file2.txt\": 300,\n",
        "    \"subdir1\": {\"file3.txt\": 400, \"file4.txt\": 100},\n",
        "    \"subdir2\": {\"subsubdir1\": {\"file5.txt\": 250}, \"file6.txt\": 150},\n",
        "}\n",
        "\n",
        "print(calculate_directory_size(directory_st))\n"
      ],
      "metadata": {
        "colab": {
          "base_uri": "https://localhost:8080/"
        },
        "id": "yhaFmg8X1nfB",
        "outputId": "06205e6a-049c-48b1-fb94-d1ebc8ee47ba"
      },
      "execution_count": null,
      "outputs": [
        {
          "output_type": "stream",
          "name": "stdout",
          "text": [
            "1400\n"
          ]
        }
      ]
    },
    {
      "cell_type": "markdown",
      "source": [
        "Task:\n",
        "1. Write a recursive function calculate_directory_size(directory) where:\n",
        "• directory is a dictionary where keys represent file names (with values as sizes in\n",
        "\n",
        "KB) or directory names (with values as another dictionary representing a subdi-\n",
        "rectory).\n",
        "\n",
        "• The function should return the total size of the directory, including all nested\n",
        "subdirectories.\n",
        "2. Test the function with a sample directory structure."
      ],
      "metadata": {
        "id": "X1PTbIG52saL"
      }
    },
    {
      "cell_type": "code",
      "source": [
        "def calculate_directory_size(directory):\n",
        "    \"\"\"\n",
        "    Recursively calculates the total size of a directory, including all nested subdirectories.\n",
        "\n",
        "    Args:\n",
        "        directory (dict): A dictionary where keys represent file or directory names,\n",
        "                          and values are file sizes (int) or subdirectories (dict).\n",
        "\n",
        "    Returns:\n",
        "        int: Total size of the directory in KB.\n",
        "    \"\"\"\n",
        "    total_size = 0\n",
        "    for key, value in directory.items():\n",
        "        if isinstance(value, dict):\n",
        "            total_size += calculate_directory_size(value)\n",
        "        else:\n",
        "            total_size += value\n",
        "    return total_size\n",
        "\n",
        "# Sample directory structure\n",
        "sample_directory = {\n",
        "    \"file1.txt\": 200,\n",
        "    \"file2.txt\": 300,\n",
        "    \"subdir1\": {\n",
        "        \"file3.txt\": 400,\n",
        "        \"file4.txt\": 100\n",
        "    },\n",
        "    \"subdir2\": {\n",
        "        \"subsubdir1\": {\n",
        "            \"file5.txt\": 250\n",
        "        },\n",
        "        \"file6.txt\": 150\n",
        "    }\n",
        "}\n",
        "\n",
        "total_size = calculate_directory_size(sample_directory)\n",
        "print(f\"Total size of the directory: {total_size} KB\")\n"
      ],
      "metadata": {
        "colab": {
          "base_uri": "https://localhost:8080/"
        },
        "id": "N5ejqXzn2vbT",
        "outputId": "aaec99b9-ace1-481c-f5ba-265e65745f5e"
      },
      "execution_count": null,
      "outputs": [
        {
          "output_type": "stream",
          "name": "stdout",
          "text": [
            "Total size of the directory: 1400 KB\n"
          ]
        }
      ]
    },
    {
      "cell_type": "markdown",
      "source": [
        "8.2.2 Exercises - Dynamic Programming:\n",
        "Task 1 - Coin Change Problem:\n",
        "Scenario: Given a set of coin denominations and a target amount, find the minimum number\n",
        "of coins needed to make the amount. If it’s not possible, return - 1.\n",
        "Task:\n",
        "1. Write a function min_coins(coins, amount) that:\n",
        "• Uses DP to calculate the minimum number of coins needed to make up the\n",
        "amount.\n",
        "2. Test with coins = [1, 2, 5] and amount = 11. The result should be 3 (using coins\n",
        "[5, 5, 1])."
      ],
      "metadata": {
        "id": "34wI49D33CWw"
      }
    },
    {
      "cell_type": "code",
      "source": [
        "def min_coins(coins, amount):\n",
        "    '''\n",
        "    Finds the minimum number of coins needed to make up a given amount using dynamic programming.\n",
        "    This function solves the coin change problem by determining the fewest number of coins from\n",
        "    a given set of coin denominations that sum up to a target amount. The solution uses dynamic\n",
        "    programming (tabulation) to iteratively build up the minimum number of coins required for each amount.\n",
        "\n",
        "    Parameters:\n",
        "        coins (list of int): A list of coin denominations available for making change. Each\n",
        "                             coin denomination is a positive integer.\n",
        "        amount (int): The target amount for which we need to find the minimum number of coins.\n",
        "                      It must be a non-negative integer.\n",
        "\n",
        "    Returns:\n",
        "        int: The minimum number of coins required to make the given amount.\n",
        "             If it is not possible to make the amount with the given coins, returns -1.\n",
        "\n",
        "    Example:\n",
        "    >>> min_coins([1, 2, 5], 11)\n",
        "    3\n",
        "    >>> min_coins([2], 3)\n",
        "    -1\n",
        "    '''\n",
        "\n",
        "    dp = [float('inf')] * (amount + 1)\n",
        "    dp[0] = 0\n",
        "    for coin in coins:\n",
        "        for i in range(coin, amount + 1):\n",
        "            dp[i] = min(dp[i], dp[i - coin] + 1)\n",
        "    return dp[amount] if dp[amount] != float('inf') else -1\n",
        "print(min_coins([1, 2, 5], 11))\n"
      ],
      "metadata": {
        "colab": {
          "base_uri": "https://localhost:8080/"
        },
        "id": "qbVhs-EI3I0u",
        "outputId": "81a5f316-b72c-4359-fa15-595e1ec8376d"
      },
      "execution_count": null,
      "outputs": [
        {
          "output_type": "stream",
          "name": "stdout",
          "text": [
            "3\n"
          ]
        }
      ]
    },
    {
      "cell_type": "markdown",
      "source": [
        "Task 2 - Longest Common Subsequence (LCS):\n",
        "Scenario: Given two strings, find the length of their longest common subsequence (LCS).\n",
        "This is useful in text comparison.\n",
        "Task:\n",
        "1. Write a function longest_common_subsequence(s1, s2) that:\n",
        "• Uses DP to find the length of the LCS of two strings s1 and s2.\n",
        "2. Test with strings like \"abcde\" and \"ace\"; the LCS length should be 3 (\"ace\")."
      ],
      "metadata": {
        "id": "Oh68tym74Or9"
      }
    },
    {
      "cell_type": "code",
      "source": [
        "def longest_common_subsequence(s1, s2):\n",
        "    m, n = len(s1), len(s2)\n",
        "    dp = [[0] * (n + 1) for _ in range(m + 1)]\n",
        "    for i in range(1, m + 1):\n",
        "        for j in range(1, n + 1):\n",
        "            if s1[i-1] == s2[j-1]:\n",
        "                dp[i][j] = dp[i-1][j-1] + 1\n",
        "            else:\n",
        "                dp[i][j] = max(dp[i-1][j], dp[i][j-1])\n",
        "    return dp[m][n]\n",
        "print(longest_common_subsequence(\"abcde\", \"ace\"))"
      ],
      "metadata": {
        "colab": {
          "base_uri": "https://localhost:8080/"
        },
        "id": "KMpRFPAc4RDq",
        "outputId": "d576a908-bbfc-4ad1-e678-17ccdf9b7a86"
      },
      "execution_count": null,
      "outputs": [
        {
          "output_type": "stream",
          "name": "stdout",
          "text": [
            "3\n"
          ]
        }
      ]
    },
    {
      "cell_type": "markdown",
      "source": [
        "Task 3 - 0/1 Knapsack Problem:\n",
        "Scenario: You have a list of items, each with a weight and a value. Given a weight capacity,\n",
        "maximize the total value of items you can carry without exceeding the weight capacity.\n",
        "Task:\n",
        "1. Write a function knapsack(weights, values, capacity) that:\n",
        "• Uses DP to determine the maximum value that can be achieved within the given\n",
        "weight capacity.\n",
        "\n",
        "2. Test with weights [1, 3, 4, 5], values [1, 4, 5, 7], and capacity 7. The re-\n",
        "sult should be 9."
      ],
      "metadata": {
        "id": "5-hNeooa4gVh"
      }
    },
    {
      "cell_type": "code",
      "source": [
        "def knapsack(weights, values, capacity):\n",
        "    n = len(weights)\n",
        "    dp = [[0] * (capacity + 1) for _ in range(n + 1)]\n",
        "    for i in range(1, n + 1):\n",
        "        for w in range(1, capacity + 1):\n",
        "            if weights[i-1] <= w:\n",
        "                dp[i][w] = max(dp[i-1][w], dp[i-1][w-weights[i-1]] + values[i-1])\n",
        "            else:\n",
        "                dp[i][w] = dp[i-1][w]\n",
        "    return dp[n][capacity]\n",
        "print(knapsack([1, 3, 4, 5], [1, 4, 5, 7], 7))"
      ],
      "metadata": {
        "colab": {
          "base_uri": "https://localhost:8080/"
        },
        "id": "qJh8XSu94i6O",
        "outputId": "06c55e74-a981-4d92-adc4-b2b15af77dac"
      },
      "execution_count": null,
      "outputs": [
        {
          "output_type": "stream",
          "name": "stdout",
          "text": [
            "9\n"
          ]
        }
      ]
    }
  ]
}